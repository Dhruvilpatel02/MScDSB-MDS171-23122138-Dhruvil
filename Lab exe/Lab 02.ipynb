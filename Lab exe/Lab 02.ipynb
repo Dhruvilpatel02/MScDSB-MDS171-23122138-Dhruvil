{
 "cells": [
  {
   "cell_type": "code",
   "execution_count": 1,
   "metadata": {},
   "outputs": [
    {
     "name": "stdout",
     "output_type": "stream",
     "text": [
      "5\n",
      "five\n"
     ]
    }
   ],
   "source": [
    "# Function to convert a number into its word form\n",
    "def convert(number):\n",
    "    if number == 0:\n",
    "        return 'zero'\n",
    "    elif number == 1:\n",
    "        return 'one'\n",
    "    elif number == 2:\n",
    "        return 'two'\n",
    "    elif number == 3:\n",
    "        return 'three'\n",
    "    elif number == 4:\n",
    "        return 'four'\n",
    "    elif number == 5:\n",
    "        return 'five'\n",
    "    elif number == 6:\n",
    "        return 'six'\n",
    "    elif number == 7:\n",
    "        return 'seven'\n",
    "    elif number == 8:\n",
    "        return 'eight'\n",
    "    elif number == 9:\n",
    "        return 'nine'\n",
    "\n",
    "# Ask the user to enter a number\n",
    "num = int(input(\"Enter a number: \"))\n",
    "\n",
    "# Create the output list with the number and its word form\n",
    "output = [num, convert(num)]\n",
    "\n",
    "# Print the output list with each element on a new line\n",
    "print('\\n'.join(map(str, output)))\n"
   ]
  },
  {
   "cell_type": "code",
   "execution_count": null,
   "metadata": {},
   "outputs": [],
   "source": []
  }
 ],
 "metadata": {
  "kernelspec": {
   "display_name": "Python 3",
   "language": "python",
   "name": "python3"
  },
  "language_info": {
   "codemirror_mode": {
    "name": "ipython",
    "version": 3
   },
   "file_extension": ".py",
   "mimetype": "text/x-python",
   "name": "python",
   "nbconvert_exporter": "python",
   "pygments_lexer": "ipython3",
   "version": "3.11.4"
  }
 },
 "nbformat": 4,
 "nbformat_minor": 2
}
