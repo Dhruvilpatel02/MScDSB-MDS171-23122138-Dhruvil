{
 "cells": [
  {
   "cell_type": "code",
   "execution_count": null,
   "metadata": {},
   "outputs": [],
   "source": [
    "# Define a custom function to calculate the sum of a list of numbers\n",
    "def custom_sum(numbers):\n",
    "    total = 0\n",
    "    for number in numbers:\n",
    "        total += number\n",
    "    return total\n",
    "\n",
    "# Define a custom function to calculate the length (count) of a list of numbers\n",
    "def custom_len(numbers):\n",
    "    count = 0\n",
    "    for number in numbers:\n",
    "        count += 1\n",
    "    return count\n",
    "\n",
    "# Define a custom function to find the maximum value in a list of numbers\n",
    "def custom_max(numbers):\n",
    "    maximum = numbers[0]\n",
    "    for number in numbers:\n",
    "        if number > maximum:\n",
    "            maximum = number\n",
    "    return maximum\n",
    "\n",
    "# Define a custom function to find the minimum value in a list of numbers\n",
    "def custom_min(numbers):\n",
    "    minimum = numbers[0]\n",
    "    for number in numbers:\n",
    "        if number < minimum:\n",
    "            minimum = number\n",
    "    return minimum\n",
    "\n",
    "# Define a custom function to calculate the mean (average) of a list of numbers\n",
    "def custom_mean(numbers):\n",
    "    total = custom_sum(numbers)\n",
    "    count = custom_len(numbers)\n",
    "    mean = total / count\n",
    "    return mean\n",
    "\n",
    "# List of numbers\n",
    "numbers = [761, 123, 585, ...]  # (omitted for brevity)\n",
    "\n",
    "# Calculate the mean, minimum, maximum, and range of the list of numbers\n",
    "mean = custom_mean(numbers)\n",
    "minimum = custom_min(numbers)\n",
    "maximum = custom_max(numbers)\n",
    "range_ = maximum - minimum\n",
    "\n",
    "# Print the calculated statistics\n",
    "print(f\"Mean: {mean}\")\n",
    "print(f\"Minimum: {minimum}\")\n",
    "print(f\"Maximum: {maximum}\")\n",
    "print(f\"Range: {range_}\")\n"
   ]
  }
 ],
 "metadata": {
  "kernelspec": {
   "display_name": "Python 3",
   "language": "python",
   "name": "python3"
  },
  "language_info": {
   "codemirror_mode": {
    "name": "ipython",
    "version": 3
   },
   "file_extension": ".py",
   "mimetype": "text/x-python",
   "name": "python",
   "nbconvert_exporter": "python",
   "pygments_lexer": "ipython3",
   "version": "3.11.4"
  }
 },
 "nbformat": 4,
 "nbformat_minor": 2
}
