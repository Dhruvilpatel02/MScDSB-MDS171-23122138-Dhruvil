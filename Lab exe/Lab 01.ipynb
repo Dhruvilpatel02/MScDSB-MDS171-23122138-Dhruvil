{
 "cells": [
  {
   "cell_type": "code",
   "execution_count": 1,
   "metadata": {},
   "outputs": [
    {
     "name": "stdout",
     "output_type": "stream",
     "text": [
      "vikas\n",
      "vikas\n",
      "vikas\n",
      "vikas\n",
      "vikas\n",
      "\n"
     ]
    }
   ],
   "source": [
    "# Ask the user to enter a name\n",
    "n = input(\"Enter the name :\")\n",
    "\n",
    "# Ask the user to enter a number\n",
    "a = int(input(\"Enter the number :\"))\n",
    "\n",
    "# Create the output string with each character on a new line\n",
    "output = (n + '\\n') * a\n",
    "\n",
    "# Print the output\n",
    "print(output)\n"
   ]
  },
  {
   "cell_type": "code",
   "execution_count": null,
   "metadata": {},
   "outputs": [],
   "source": []
  }
 ],
 "metadata": {
  "kernelspec": {
   "display_name": "Python 3",
   "language": "python",
   "name": "python3"
  },
  "language_info": {
   "codemirror_mode": {
    "name": "ipython",
    "version": 3
   },
   "file_extension": ".py",
   "mimetype": "text/x-python",
   "name": "python",
   "nbconvert_exporter": "python",
   "pygments_lexer": "ipython3",
   "version": "3.11.4"
  }
 },
 "nbformat": 4,
 "nbformat_minor": 2
}
